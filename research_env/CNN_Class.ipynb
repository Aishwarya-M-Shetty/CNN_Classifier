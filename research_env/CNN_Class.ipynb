{
 "cells": [
  {
   "cell_type": "code",
   "execution_count": 1,
   "id": "f9e09e7b",
   "metadata": {},
   "outputs": [],
   "source": [
    "import tensorflow as tf\n",
    "import os\n",
    "from tqdm import tqdm\n",
    "import urllib.request as url"
   ]
  },
  {
   "cell_type": "code",
   "execution_count": 2,
   "id": "8bf7af6a",
   "metadata": {},
   "outputs": [],
   "source": [
    "source_url='https://download.microsoft.com/download/3/E/1/3E1C3F21-ECDB-4869-8368-6DEBA77B919F/kagglecatsanddogs_3367a.zip'"
   ]
  },
  {
   "cell_type": "code",
   "execution_count": 5,
   "id": "75d1eb67",
   "metadata": {},
   "outputs": [],
   "source": [
    "destination='data'\n",
    "data_file='data.zip'\n",
    "destination_zip_path=os.path.join(destination,data_file)"
   ]
  },
  {
   "cell_type": "code",
   "execution_count": null,
   "id": "2a11f8f7",
   "metadata": {},
   "outputs": [],
   "source": []
  }
 ],
 "metadata": {
  "kernelspec": {
   "display_name": "Python 3 (ipykernel)",
   "language": "python",
   "name": "python3"
  },
  "language_info": {
   "codemirror_mode": {
    "name": "ipython",
    "version": 3
   },
   "file_extension": ".py",
   "mimetype": "text/x-python",
   "name": "python",
   "nbconvert_exporter": "python",
   "pygments_lexer": "ipython3",
   "version": "3.7.13"
  }
 },
 "nbformat": 4,
 "nbformat_minor": 5
}
